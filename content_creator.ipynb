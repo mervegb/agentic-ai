{
 "cells": [
  {
   "cell_type": "code",
   "execution_count": null,
   "metadata": {},
   "outputs": [],
   "source": [
    "from dotenv import load_dotenv\n",
    "from agents import Agent, Runner, trace, function_tool\n",
    "from openai.types.responses import ResponseTextDeltaEvent\n",
    "from typing import Dict\n",
    "import os\n",
    "import asyncio\n",
    "import requests\n",
    "from datetime import datetime\n",
    "import json\n",
    "\n",
    "load_dotenv(override=True)\n"
   ]
  },
  {
   "cell_type": "markdown",
   "metadata": {},
   "source": [
    "## Content Writer Agents"
   ]
  },
  {
   "cell_type": "code",
   "execution_count": 3,
   "metadata": {},
   "outputs": [],
   "source": [
    "instructions1 = \"You are a technical content writer for TechInsights, \\\n",
    "a technology blog that provides in-depth analysis on emerging technologies. \\\n",
    "You write detailed, fact-driven blog posts with a professional tone and well-researched content.\"\n",
    "\n",
    "\n",
    "instructions2 = \"You are a creative tech blogger for TechInsights, \\\n",
    "a technology blog that provides engaging content on emerging technologies. \\\n",
    "You write conversational, story-driven blog posts that make complex tech concepts accessible \\\n",
    "through analogies, examples, and an enthusiastic, personal voice.\"\n",
    "\n",
    "instructions3 = \"You are a concise tech columnist for TechInsights, \\\n",
    "a technology blog that provides quick insights on emerging technologies. \\\n",
    "You write brief, to-the-point blog posts that deliver the essential information \\\n",
    "with minimal fluff and maximum value density.\""
   ]
  },
  {
   "cell_type": "code",
   "execution_count": 5,
   "metadata": {},
   "outputs": [],
   "source": [
    "tech_writer1 = Agent(\n",
    "    name='Professional Tech Writer',\n",
    "    instructions=instructions1,\n",
    "    model=\"gpt-4o-mini\"\n",
    ")\n",
    "\n",
    "tech_writer2 = Agent(\n",
    "   name=\"Creative Tech Writer\",\n",
    "    instructions=instructions2,\n",
    "    model=\"gpt-4o-mini\"\n",
    ")\n",
    "\n",
    "tech_writer3 = Agent(\n",
    "    name=\"Concise Tech Writer\",\n",
    "    instructions=instructions3,\n",
    "    model=\"gpt-4o-mini\"\n",
    ")"
   ]
  },
  {
   "cell_type": "code",
   "execution_count": null,
   "metadata": {},
   "outputs": [],
   "source": [
    "result = Runner.run_streamed(tech_writer1, input='Write a blog post about AI safety')\n",
    "\n",
    "async for event in result.stream_events():\n",
    "    if event.type == 'raw_response_event' and isinstance(event.data, ResponseTextDeltaEvent):\n",
    "        print(event.data.delta, end='', flush=True)"
   ]
  },
  {
   "cell_type": "code",
   "execution_count": null,
   "metadata": {},
   "outputs": [],
   "source": [
    "topic = \"Write a blog post about AI safety\"\n",
    "\n",
    "with trace('Parallel blog post drafts'):\n",
    "    results = await asyncio.gather(\n",
    "        Runner.run(tech_writer1, topic),\n",
    "        Runner.run(tech_writer2, topic),\n",
    "        Runner.run(tech_writer3, topic)\n",
    "    )\n",
    "    \n",
    "outputs = [result.final_output for result in results]  \n",
    "\n",
    "for output in outputs:\n",
    "    print(output + \"\\n\\n\")"
   ]
  },
  {
   "cell_type": "code",
   "execution_count": null,
   "metadata": {},
   "outputs": [],
   "source": [
    "content_selector = Agent(\n",
    "    name='content_selector',\n",
    "    instructions=\"You select the best blog post from the given options. \\\n",
    "Evaluate based on quality of information, engagement factor, and overall impact. \\\n",
    "Pick the one that best balances depth, accessibility, and reader engagement. \\\n",
    "Do not give an explanation; reply with the selected blog post only.\",\n",
    "    model=\"gpt-4o-mini\"\n",
    ")"
   ]
  },
  {
   "cell_type": "code",
   "execution_count": null,
   "metadata": {},
   "outputs": [],
   "source": [
    "topic = \"Write a blog post about AI safety\"\n",
    "\n",
    "with trace(\"Selection from writers\"):\n",
    "    results = await asyncio.gather(\n",
    "        Runner.run(tech_writer1, topic),\n",
    "        Runner.run(tech_writer2, topic),\n",
    "        Runner.run(tech_writer3, topic),\n",
    "    )\n",
    "    \n",
    "outputs = [result.final_output for result in results]\n",
    "\n",
    "blog_posts = \"Blog post drafts:\\n\\n\".join(outputs)\n",
    "\n",
    "best = await Runner.run(content_selector, blog_posts)\n",
    "\n",
    "print(f\"Best blog post:\\n{best.final_output}\")"
   ]
  },
  {
   "cell_type": "markdown",
   "metadata": {},
   "source": [
    " ## Function tools for publishing and image generation"
   ]
  },
  {
   "cell_type": "code",
   "execution_count": null,
   "metadata": {},
   "outputs": [],
   "source": [
    "@function_tool\n",
    "def publish_to_wordpress(title: str, content: str, tags: str):\n",
    "    print(f\"Publishing to WordPress: {title}\")\n",
    "    \n",
    "    # Simulate API call\n",
    "    return {\n",
    "        \"status\": \"success\", \n",
    "        \"post_id\": 123,\n",
    "        \"url\": f\"https://techinsights.com/blog/123\"\n",
    "    }\n",
    "    \n",
    "    \n",
    "@function_tool\n",
    "def generate_featured_image(description: str):\n",
    "    # Simulate image generation\n",
    "    image_id = hash(description) % 10000\n",
    "    \n",
    "    return {\n",
    "        \"status\": \"success\", \n",
    "        \"image_url\": f\"https://techinsights.com/images/{image_id}.jpg\"\n",
    "    } \n",
    "    \n",
    "    \n",
    "@function_tool\n",
    "def schedule_social_media(title: str, excerpt: str, post_url: str, platforms: str):\n",
    "    platform_list = platforms.split(',')\n",
    "    scheduled_posts = {}\n",
    "    \n",
    "    for platform in platform_list:\n",
    "        # Simulate scheduling\n",
    "        post_id = hash(f\"{platform}-{title}\") % 10000\n",
    "        scheduled_posts[platform] = post_id\n",
    "    \n",
    "    return {\n",
    "        \"status\": \"success\", \n",
    "        \"scheduled_platforms\": platform_list,\n",
    "        \"post_ids\": scheduled_posts\n",
    "    }"
   ]
  },
  {
   "cell_type": "markdown",
   "metadata": {},
   "source": [
    "## Convert agents to tools"
   ]
  },
  {
   "cell_type": "code",
   "execution_count": null,
   "metadata": {},
   "outputs": [],
   "source": [
    "description = \"Write a technology blog post\"\n",
    "\n",
    "tool1 = tech_writer1.as_tool(tool_name='professional_writer',tool_description=description)\n",
    "tool2 = tech_writer2.as_tool(tool_name='creative_writer', tool_description=description)\n",
    "tool3 = tech_writer3.as_tool(tool_name=\"concise_writer\", tool_description=description)\n",
    "\n",
    "tools = [tool1, tool2, tool3, publish_to_wordpress, generate_featured_image, schedule_social_media]"
   ]
  },
  {
   "cell_type": "markdown",
   "metadata": {},
   "source": [
    "## Creating specialized agents for different parts of the process"
   ]
  },
  {
   "cell_type": "code",
   "execution_count": null,
   "metadata": {},
   "outputs": [],
   "source": [
    "title_instructions = \"You create compelling titles for technology blog posts. \\\n",
    "Given a blog post or topic, you create a title that is accurate, engaging, \\\n",
    "and optimized for both reader interest and SEO. Your titles should be under 70 characters.\"\n",
    "\n",
    "excerpt_instructions = \"You create compelling excerpts/summaries for technology blog posts. \\\n",
    "Given a blog post, you create a concise summary (2-3 sentences) that captures the \\\n",
    "key value proposition and entices readers to click through to read the full post.\"\n",
    "\n",
    "title_writer = Agent(name=\"Title Writer\", instructions=title_instructions, model=\"gpt-4o-mini\")\n",
    "title_tool = title_writer.as_tool(tool_name=\"title_writer\", tool_description=\"Create a compelling title for a blog post\")\n",
    "\n",
    "excerpt_writer = Agent(name=\"Excerpt Writer\", instructions=excerpt_instructions, model=\"gpt-4o-mini\")\n",
    "excerpt_tool = excerpt_writer.as_tool(tool_name=\"excerpt_writer\", tool_description=\"Create an engaging excerpt for a blog post\")\n"
   ]
  },
  {
   "cell_type": "code",
   "execution_count": null,
   "metadata": {},
   "outputs": [],
   "source": [
    "@function_tool\n",
    "def publish_complete_post(title: str, content: str, excerpt: str, image_url: str, tags: str) -> Dict[str, str]:\n",
    "    \"\"\" Publish a complete blog post with all components to WordPress \"\"\"\n",
    "    # In a real implementation, this would use the WordPress API\n",
    "    # For this example, we'll just simulate the API call\n",
    "    \n",
    "    post_id = hash(f\"{title}-{datetime.now().isoformat()}\") % 10000\n",
    "    post_url = f\"https://techinsights.com/blog/{post_id}\"\n",
    "    \n",
    "    # Print to simulate what's being published\n",
    "    print(f\"\\n--- PUBLISHING BLOG POST ---\")\n",
    "    print(f\"Title: {title}\")\n",
    "    print(f\"Excerpt: {excerpt}\")\n",
    "    print(f\"Featured Image: {image_url}\")\n",
    "    print(f\"Tags: {tags}\")\n",
    "    print(f\"Post URL: {post_url}\")\n",
    "    print(f\"Content length: {len(content)} characters\")\n",
    "    print(\"---------------------------\\n\")\n",
    "    \n",
    "    return {\n",
    "        \"status\": \"success\",\n",
    "        \"post_id\": post_id,\n",
    "        \"url\": post_url\n",
    "    }"
   ]
  },
  {
   "cell_type": "code",
   "execution_count": null,
   "metadata": {},
   "outputs": [],
   "source": [
    "formatter_tools = [title_tool, excerpt_tool, generate_featured_image, publish_complete_post]"
   ]
  },
  {
   "cell_type": "code",
   "execution_count": null,
   "metadata": {},
   "outputs": [],
   "source": [
    "publisher_instructions = \"You are a blog post publisher for TechInsights. You receive the body of a blog post to be published. \\\n",
    "You first use the title_writer tool to create a compelling title for the blog post, \\\n",
    "then use the excerpt_writer tool to create an engaging excerpt. \\\n",
    "Next, you use the generate_featured_image tool to create an appropriate featured image \\\n",
    "based on the blog content. Finally, you use the publish_complete_post tool to publish \\\n",
    "the complete blog post with all components. For tags, analyze the content and include \\\n",
    "5-7 relevant technology keywords, separated by commas.\"\n",
    "\n",
    "publisher_agent = Agent(\n",
    "    name=\"Publisher\",\n",
    "    instructions=publisher_instructions,\n",
    "    tools=formatter_tools,\n",
    "    model=\"gpt-4o-mini\",\n",
    "    handoff_description=\"Format and publish a blog post\")"
   ]
  },
  {
   "cell_type": "markdown",
   "metadata": {},
   "source": [
    "## Content Director Agent (main coordinator)"
   ]
  },
  {
   "cell_type": "code",
   "execution_count": null,
   "metadata": {},
   "outputs": [],
   "source": [
    "writer_tools = [tool1, tool2, tool3]\n",
    "handoffs = [publisher_agent]"
   ]
  },
  {
   "cell_type": "code",
   "execution_count": null,
   "metadata": {},
   "outputs": [],
   "source": [
    "content_director_instructions = \"\"\"You are the Content Director for TechInsights technology blog.\n",
    "Your job is to coordinate the creation and publishing of high-quality blog posts.\n",
    "\n",
    "When given a technology topic:\n",
    "1. Use all three writer tools (professional_writer, creative_writer, concise_writer) to generate initial drafts\n",
    "2. Evaluate each draft based on accuracy, engagement, and value to readers\n",
    "3. You can request revisions from any writer if needed by calling their tool again with specific feedback\n",
    "4. Once you have selected the best post, hand off to the Publisher agent to handle formatting and publishing\n",
    "\n",
    "Always maintain editorial standards - posts should be accurate, engaging, and provide value to technology enthusiasts.\n",
    "If none of the initial drafts meet your standards, request revisions before publishing.\n",
    "\"\"\""
   ]
  },
  {
   "cell_type": "code",
   "execution_count": null,
   "metadata": {},
   "outputs": [],
   "source": [
    "content_director = Agent(\n",
    "    name='Content Director',\n",
    "    instructions=content_director_instructions,\n",
    "    tools=writer_tools,\n",
    "    handoffs=handoffs,\n",
    "    model='gpt-4o-mini'\n",
    ")\n",
    "\n",
    "\n",
    "topic = \"Create a blog post about quantum computing applications in cybersecurity\"\n",
    "\n",
    "with trace('Tech Blog Content Pipeline'):\n",
    "    result = await Runner.run(content_director, topic)"
   ]
  }
 ],
 "metadata": {
  "kernelspec": {
   "display_name": ".venv",
   "language": "python",
   "name": "python3"
  },
  "language_info": {
   "codemirror_mode": {
    "name": "ipython",
    "version": 3
   },
   "file_extension": ".py",
   "mimetype": "text/x-python",
   "name": "python",
   "nbconvert_exporter": "python",
   "pygments_lexer": "ipython3",
   "version": "3.12.10"
  }
 },
 "nbformat": 4,
 "nbformat_minor": 2
}
