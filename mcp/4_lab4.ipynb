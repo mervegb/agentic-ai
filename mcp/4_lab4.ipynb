{
 "cells": [
  {
   "cell_type": "markdown",
   "metadata": {},
   "source": [
    "# Autonomous Traders\n",
    "\n",
    "An equity trading simulation, with 4 Traders and a Researcher, powered by a slew of MCP servers with tools & resources:\n",
    "\n",
    "1. Our home-made Accounts MCP server (written by our engineering team!)\n",
    "2. Fetch (get webpage via a local headless browser)\n",
    "3. Memory\n",
    "4. Brave Search\n",
    "5. Financial data\n",
    "\n",
    "And a resource to read information about the trader's account, and their investment strategy.\n",
    "\n",
    "The goal of today's lab is to make a new python module, `traders.py` that will manage a single trader on our trading floor.\n",
    "\n",
    "We will experiment and explore in the lab, and then migrate to a python module when we're ready.\n"
   ]
  },
  {
   "cell_type": "code",
   "execution_count": 11,
   "metadata": {},
   "outputs": [
    {
     "data": {
      "text/plain": [
       "True"
      ]
     },
     "execution_count": 11,
     "metadata": {},
     "output_type": "execute_result"
    }
   ],
   "source": [
    "import os\n",
    "from dotenv import load_dotenv\n",
    "from agents import Agent, Runner, trace, Tool\n",
    "from agents.mcp import MCPServerStdio\n",
    "from IPython.display import Markdown, display\n",
    "from datetime import datetime\n",
    "from accounts_client import read_accounts_resource, read_strategy_resource\n",
    "from accounts import Account\n",
    "\n",
    "load_dotenv(override=True)"
   ]
  },
  {
   "cell_type": "markdown",
   "metadata": {},
   "source": [
    "### Let's start by gathering the MCP params for our trader"
   ]
  },
  {
   "cell_type": "code",
   "execution_count": 12,
   "metadata": {},
   "outputs": [
    {
     "name": "stdout",
     "output_type": "stream",
     "text": [
      "False\n",
      "False\n"
     ]
    }
   ],
   "source": [
    "polygon_api_key = os.getenv(\"POLYGON_API_KEY\")\n",
    "polygon_plan = os.getenv(\"POLYGON_PLAN\")\n",
    "\n",
    "is_paid_polygon = polygon_plan == \"paid\"\n",
    "is_realtime_polygon = polygon_plan == \"realtime\"\n",
    "\n",
    "print(is_paid_polygon)\n",
    "print(is_realtime_polygon)"
   ]
  },
  {
   "cell_type": "code",
   "execution_count": 13,
   "metadata": {},
   "outputs": [],
   "source": [
    "if is_paid_polygon or is_realtime_polygon:\n",
    "    market_mcp = {\"command\": \"uvx\",\"args\": [\"--from\", \"git+https://github.com/polygon-io/mcp_polygon@master\", \"mcp_polygon\"], \"env\": {\"POLYGON_API_KEY\": polygon_api_key}}\n",
    "else:\n",
    "    market_mcp = ({\"command\": \"uv\", \"args\": [\"run\", \"market_server.py\"]})\n",
    "\n",
    "trader_mcp_server_params = [\n",
    "    {\"command\": \"uv\", \"args\": [\"run\", \"accounts_server.py\"]},\n",
    "    {\"command\": \"uv\", \"args\": [\"run\", \"push_server.py\"]},\n",
    "    market_mcp\n",
    "]"
   ]
  },
  {
   "cell_type": "markdown",
   "metadata": {},
   "source": [
    "### And now for our researcher"
   ]
  },
  {
   "cell_type": "code",
   "execution_count": 26,
   "metadata": {},
   "outputs": [],
   "source": [
    "researcher_mcp_server_params = [\n",
    "    {\"command\": \"uvx\", \"args\": [\"mcp-server-fetch\"]},\n",
    "]"
   ]
  },
  {
   "cell_type": "markdown",
   "metadata": {},
   "source": [
    "### Now create the MCPServerStdio for each"
   ]
  },
  {
   "cell_type": "code",
   "execution_count": 27,
   "metadata": {},
   "outputs": [],
   "source": [
    "researcher_mcp_servers = [MCPServerStdio(params, client_session_timeout_seconds=30) for params in researcher_mcp_server_params]\n",
    "trader_mcp_servers = [MCPServerStdio(params, client_session_timeout_seconds=30) for params in trader_mcp_server_params]\n",
    "mcp_servers = trader_mcp_servers + researcher_mcp_servers"
   ]
  },
  {
   "cell_type": "markdown",
   "metadata": {},
   "source": [
    "### Now let's make a Researcher Agent to do market research\n",
    "\n",
    "And turn it into a tool - remember how this works for OpenAI Agents SDK, and the difference with handoffs?"
   ]
  },
  {
   "cell_type": "code",
   "execution_count": 28,
   "metadata": {},
   "outputs": [],
   "source": [
    "async def get_researcher(mcp_servers) -> Agent:\n",
    "    instructions = f\"\"\"You are a financial researcher. You are able to search the web for interesting financial news,\n",
    "look for possible trading opportunities, and help with research.\n",
    "Based on the request, you carry out necessary research and respond with your findings.\n",
    "Take time to make multiple searches to get a comprehensive overview, and then summarize your findings.\n",
    "If there isn't a specific request, then just respond with investment opportunities based on searching latest news.\n",
    "The current datetime is {datetime.now().strftime(\"%Y-%m-%d %H:%M:%S\")}\n",
    "\"\"\"\n",
    "    researcher = Agent(\n",
    "        name=\"Researcher\",\n",
    "        instructions=instructions,\n",
    "        model=\"gpt-4.1-mini\",\n",
    "        mcp_servers=mcp_servers,\n",
    "    )\n",
    "    return researcher"
   ]
  },
  {
   "cell_type": "code",
   "execution_count": 29,
   "metadata": {},
   "outputs": [],
   "source": [
    "async def get_researcher_tool(mcp_servers) -> Tool:\n",
    "    researcher = await get_researcher(mcp_servers)\n",
    "    return researcher.as_tool(\n",
    "            tool_name=\"Researcher\",\n",
    "            tool_description=\"This tool researches online for news and opportunities, \\\n",
    "                either based on your specific request to look into a certain stock, \\\n",
    "                or generally for notable financial news and opportunities. \\\n",
    "                Describe what kind of research you're looking for.\"\n",
    "        )"
   ]
  },
  {
   "cell_type": "code",
   "execution_count": 30,
   "metadata": {},
   "outputs": [
    {
     "data": {
      "text/markdown": [
       "Here's the latest summary on Apple Inc. (AAPL):\n",
       "\n",
       "- Stock Closed (latest): $196.45, down 1.38% on high volume (46.7 million shares)\n",
       "- Market Cap: Approximately $2.934 Trillion\n",
       "- 52 Week Range: Low of $169.21 (April 2025) to High of $260.10 (December 2024)\n",
       "- Dividend Yield: 0.53%, with dividend amount $0.26 per share\n",
       "- Price to Earnings (P/E) Ratio (TTM): 27.75, Forward P/E: 26.92\n",
       "- Earnings per share (EPS) last twelve months: $7.08\n",
       "- Return on Equity (ROE): 152.55%\n",
       "- Revenue (TTM): $400.366 Billion\n",
       "- Net Margin: 26.86%\n",
       "- Debt to Equity Ratio: 146.99%\n",
       "- Next Earnings Date: Estimated July 30, 2025\n",
       "- Stock showed a Year-to-Date percentage change of -21.55%, indicating it has faced some recent declines\n",
       "\n",
       "There were no specific news headlines or major events fetched currently from the top financial news sources.\n",
       "\n",
       "Would you like me to look specifically for recent news about Apple's product launches, earnings, legal issues, or other particular areas?"
      ],
      "text/plain": [
       "<IPython.core.display.Markdown object>"
      ]
     },
     "metadata": {},
     "output_type": "display_data"
    }
   ],
   "source": [
    "research_question = \"What's the latest news on Apple?\"\n",
    "\n",
    "for server in researcher_mcp_servers:\n",
    "    await server.connect()\n",
    "researcher = await get_researcher(researcher_mcp_servers)\n",
    "with trace(\"Researcher\"):\n",
    "    result = await Runner.run(researcher, research_question, max_turns=10)\n",
    "display(Markdown(result.final_output))\n",
    "\n"
   ]
  },
  {
   "cell_type": "markdown",
   "metadata": {},
   "source": [
    "### Look at the trace\n",
    "\n",
    "https://platform.openai.com/traces"
   ]
  },
  {
   "cell_type": "code",
   "execution_count": 37,
   "metadata": {},
   "outputs": [
    {
     "data": {
      "text/markdown": [
       "{\"name\": \"merve\", \"balance\": 10000.0, \"strategy\": \"You are a day trader that aggressively buys and sells shares based on news and market conditions.\", \"holdings\": {}, \"transactions\": [], \"portfolio_value_time_series\": [[\"2025-06-15 13:00:45\", 10000.0]], \"total_portfolio_value\": 10000.0, \"total_profit_loss\": 0.0}"
      ],
      "text/plain": [
       "<IPython.core.display.Markdown object>"
      ]
     },
     "metadata": {},
     "output_type": "display_data"
    },
    {
     "data": {
      "text/markdown": [
       "You are a day trader that aggressively buys and sells shares based on news and market conditions."
      ],
      "text/plain": [
       "<IPython.core.display.Markdown object>"
      ]
     },
     "metadata": {},
     "output_type": "display_data"
    }
   ],
   "source": [
    "merve_initial_strategy = \"You are a day trader that aggressively buys and sells shares based on news and market conditions.\"\n",
    "Account.get(\"Merve\").reset(merve_initial_strategy)\n",
    "\n",
    "display(Markdown(await read_accounts_resource(\"Merve\")))\n",
    "display(Markdown(await read_strategy_resource(\"Merve\")))"
   ]
  },
  {
   "cell_type": "markdown",
   "metadata": {},
   "source": [
    "### And now - to create our Trader Agent"
   ]
  },
  {
   "cell_type": "code",
   "execution_count": 38,
   "metadata": {},
   "outputs": [],
   "source": [
    "agent_name = \"Merve\"\n",
    "\n",
    "# Using MCP Servers to read resources\n",
    "account_details = await read_accounts_resource(agent_name)\n",
    "strategy = await read_strategy_resource(agent_name)\n",
    "\n",
    "instructions = f\"\"\"\n",
    "You are a trader that manages a portfolio of shares. Your name is {agent_name} and your account is under your name, {agent_name}.\n",
    "You have access to tools that allow you to search the internet for company news, check stock prices, and buy and sell shares.\n",
    "Your investment strategy for your portfolio is:\n",
    "{strategy}\n",
    "Your current holdings and balance is:\n",
    "{account_details}\n",
    "You have the tools to perform a websearch for relevant news and information.\n",
    "You have tools to check stock prices.\n",
    "You have tools to buy and sell shares.\n",
    "You have tools to save memory of companies, research and thinking so far.\n",
    "Please make use of these tools to manage your portfolio. Carry out trades as you see fit; do not wait for instructions or ask for confirmation.\n",
    "\"\"\"\n",
    "\n",
    "prompt = \"\"\"\n",
    "Use your tools to make decisions about your portfolio.\n",
    "Investigate the news and the market, make your decision, make the trades, and respond with a summary of your actions.\n",
    "\"\"\""
   ]
  },
  {
   "cell_type": "code",
   "execution_count": 39,
   "metadata": {},
   "outputs": [
    {
     "name": "stdout",
     "output_type": "stream",
     "text": [
      "\n",
      "You are a trader that manages a portfolio of shares. Your name is Merve and your account is under your name, Merve.\n",
      "You have access to tools that allow you to search the internet for company news, check stock prices, and buy and sell shares.\n",
      "Your investment strategy for your portfolio is:\n",
      "You are a day trader that aggressively buys and sells shares based on news and market conditions.\n",
      "Your current holdings and balance is:\n",
      "{\"name\": \"merve\", \"balance\": 10000.0, \"strategy\": \"You are a day trader that aggressively buys and sells shares based on news and market conditions.\", \"holdings\": {}, \"transactions\": [], \"portfolio_value_time_series\": [[\"2025-06-15 13:00:45\", 10000.0], [\"2025-06-15 13:01:45\", 10000.0]], \"total_portfolio_value\": 10000.0, \"total_profit_loss\": 0.0}\n",
      "You have the tools to perform a websearch for relevant news and information.\n",
      "You have tools to check stock prices.\n",
      "You have tools to buy and sell shares.\n",
      "You have tools to save memory of companies, research and thinking so far.\n",
      "Please make use of these tools to manage your portfolio. Carry out trades as you see fit; do not wait for instructions or ask for confirmation.\n",
      "\n"
     ]
    }
   ],
   "source": [
    "print(instructions)"
   ]
  },
  {
   "cell_type": "markdown",
   "metadata": {},
   "source": [
    "### And to run our Trader"
   ]
  },
  {
   "cell_type": "code",
   "execution_count": 40,
   "metadata": {},
   "outputs": [
    {
     "data": {
      "text/markdown": [
       "### Summary of Actions\n",
       "\n",
       "I conducted an analysis of current stock market conditions and identified potential day trading opportunities. Based on recent news and price momentum, I executed the following trades:\n",
       "\n",
       "1. **Purchased Shares:**\n",
       "   - **Intuit Inc (INTU)**\n",
       "     - **Quantity:** 5 shares\n",
       "     - **Price:** $755.49 (approximately)\n",
       "     - **Rationale:** Recent positive earnings beat and elevated price targets from Wells Fargo; shares approaching all-time highs.\n",
       "\n",
       "   - **Casella Waste Systems (CWST)**\n",
       "     - **Quantity:** 15 shares\n",
       "     - **Price:** $118.01 (approximately)\n",
       "     - **Rationale:** Near all-time highs in a recession-resistant sector, anticipating increased investor attention with the Nasdaq opening bell coming up.\n",
       "\n",
       "   - **Carpenter Technology Corporation (CRS)**\n",
       "     - **Quantity:** 5 shares\n",
       "     - **Price:** $249.22 (approximately)\n",
       "     - **Rationale:** Strong earnings performance (beating estimates) over five consecutive quarters and analyst target upgrades suggest bullish movement.\n",
       "\n",
       "### Portfolio Update\n",
       "- **Current Holdings:**\n",
       "  - **INTU:** 5 shares\n",
       "  - **CWST:** 15 shares\n",
       "  - **CRS:** 5 shares\n",
       "\n",
       "- **Current Cash Balance:** $3206.39\n",
       "- **Total Portfolio Value:** $9986.44\n",
       "- **Total Profit/Loss:** -$13.56 (indicating a slight initial dip post-purchases)\n",
       "\n",
       "I'll continue to monitor the news and market conditions to identify further trading opportunities. If you need updates or have other preferences, let me know!"
      ],
      "text/plain": [
       "<IPython.core.display.Markdown object>"
      ]
     },
     "metadata": {},
     "output_type": "display_data"
    }
   ],
   "source": [
    "for server in mcp_servers:\n",
    "    await server.connect()\n",
    "\n",
    "researcher_tool = await get_researcher_tool(researcher_mcp_servers)\n",
    "trader = Agent(\n",
    "    name=agent_name,\n",
    "    instructions=instructions,\n",
    "    tools=[researcher_tool],\n",
    "    mcp_servers=trader_mcp_servers,\n",
    "    model=\"gpt-4o-mini\",\n",
    ")\n",
    "with trace(agent_name):\n",
    "    result = await Runner.run(trader, prompt, max_turns=30)\n",
    "display(Markdown(result.final_output))"
   ]
  },
  {
   "cell_type": "markdown",
   "metadata": {},
   "source": [
    "### Then go and look at the trace\n",
    "\n",
    "http://platform.openai.com/traces\n"
   ]
  },
  {
   "cell_type": "code",
   "execution_count": 41,
   "metadata": {},
   "outputs": [
    {
     "data": {
      "text/plain": [
       "'{\"name\": \"merve\", \"balance\": 3206.3899, \"strategy\": \"You are a day trader that aggressively buys and sells shares based on news and market conditions.\", \"holdings\": {\"INTU\": 5, \"CWST\": 15, \"CRS\": 5}, \"transactions\": [{\"symbol\": \"INTU\", \"quantity\": 5, \"price\": 755.48796, \"timestamp\": \"2025-06-15 13:03:42\", \"rationale\": \"Recent positive earnings beat, elevated price targets from Wells Fargo, and all-time highs offer a strong momentum for day trading.\"}, {\"symbol\": \"CWST\", \"quantity\": 15, \"price\": 118.00554, \"timestamp\": \"2025-06-15 13:03:42\", \"rationale\": \"Approaching all-time highs in a recession-resistant sector. Anticipation of increased attention leading up to the Nasdaq opening bell.\"}, {\"symbol\": \"CRS\", \"quantity\": 5, \"price\": 249.21744, \"timestamp\": \"2025-06-15 13:03:42\", \"rationale\": \"Strong earnings performance over five quarters and recent analysts\\' target upgrades support bullish momentum.\"}], \"portfolio_value_time_series\": [[\"2025-06-15 13:00:45\", 10000.0], [\"2025-06-15 13:01:45\", 10000.0], [\"2025-06-15 13:03:42\", 9992.4602], [\"2025-06-15 13:03:42\", 9988.927099999999], [\"2025-06-15 13:03:42\", 9986.4399], [\"2025-06-15 13:06:40\", 9986.4399]], \"total_portfolio_value\": 9986.4399, \"total_profit_loss\": -13.560100000000602}'"
      ]
     },
     "execution_count": 41,
     "metadata": {},
     "output_type": "execute_result"
    }
   ],
   "source": [
    "# And let's look at the results of the trading\n",
    "\n",
    "await read_accounts_resource(agent_name)"
   ]
  },
  {
   "cell_type": "markdown",
   "metadata": {},
   "source": [
    "### Now it's time to review the Python module made from this:\n",
    "\n",
    "`mcp_params.py` is where the MCP servers are specified. You'll notice I've brought in some familiar friends: memory and push notifications!\n",
    "\n",
    "`templates.py` is where the instructions and messages are set up (i.e. the System prompts and User prompts)\n",
    "\n",
    "`traders.py` brings it all together.\n",
    "\n",
    "You'll notice I've done something a bit fancy with code like this:\n",
    "\n",
    "```\n",
    "async with AsyncExitStack() as stack:\n",
    "    mcp_servers = [await stack.enter_async_context(MCPServerStdio(params)) for params in mcp_server_params]\n",
    "```\n",
    "\n",
    "This is just a tidy way to combine our \"with\" statements (known as context managers) so that we don't need to do something ugly like this:\n",
    "\n",
    "```\n",
    "async with MCPServerStdio(params=params1) as mcp_server1:\n",
    "    async with MCPServerStdio(params=params2) as mcp_server2:\n",
    "        async with MCPServerStdio(params=params3) as mcp_server3:\n",
    "            mcp_servers = [mcp_server1, mcp_server2, mcp_server3]\n",
    "```\n",
    "\n",
    "But it's equivalent.\n"
   ]
  },
  {
   "cell_type": "code",
   "execution_count": 2,
   "metadata": {},
   "outputs": [],
   "source": [
    "from traders import Trader\n"
   ]
  },
  {
   "cell_type": "code",
   "execution_count": 3,
   "metadata": {},
   "outputs": [],
   "source": [
    "trader = Trader(\"Ed\")"
   ]
  },
  {
   "cell_type": "code",
   "execution_count": null,
   "metadata": {},
   "outputs": [],
   "source": [
    "await trader.run()"
   ]
  },
  {
   "cell_type": "code",
   "execution_count": null,
   "metadata": {},
   "outputs": [],
   "source": [
    "await read_accounts_resource(\"Ed\")"
   ]
  },
  {
   "cell_type": "markdown",
   "metadata": {},
   "source": [
    "### Now look at the trace\n",
    "\n",
    "https://platform.openai.com/traces\n",
    "\n",
    "### How many tools did we use in total?"
   ]
  },
  {
   "cell_type": "code",
   "execution_count": null,
   "metadata": {},
   "outputs": [],
   "source": [
    "from mcp_params import trader_mcp_server_params, researcher_mcp_server_params\n",
    "\n",
    "all_params = trader_mcp_server_params + researcher_mcp_server_params(\"ed\")\n",
    "\n",
    "count = 0\n",
    "for each_params in all_params:\n",
    "    async with MCPServerStdio(params=each_params, client_session_timeout_seconds=60) as server:\n",
    "        mcp_tools = await server.list_tools()\n",
    "        count += len(mcp_tools)\n",
    "print(f\"We have {len(all_params)} MCP servers, and {count} tools\")"
   ]
  },
  {
   "cell_type": "code",
   "execution_count": null,
   "metadata": {},
   "outputs": [],
   "source": []
  },
  {
   "cell_type": "code",
   "execution_count": null,
   "metadata": {},
   "outputs": [],
   "source": []
  }
 ],
 "metadata": {
  "kernelspec": {
   "display_name": ".venv",
   "language": "python",
   "name": "python3"
  },
  "language_info": {
   "codemirror_mode": {
    "name": "ipython",
    "version": 3
   },
   "file_extension": ".py",
   "mimetype": "text/x-python",
   "name": "python",
   "nbconvert_exporter": "python",
   "pygments_lexer": "ipython3",
   "version": "3.13.3"
  }
 },
 "nbformat": 4,
 "nbformat_minor": 2
}
